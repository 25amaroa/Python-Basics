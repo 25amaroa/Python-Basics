{
  "nbformat": 4,
  "nbformat_minor": 0,
  "metadata": {
    "colab": {
      "provenance": [],
      "authorship_tag": "ABX9TyPdg8XxRReJURUftduTVpvd",
      "include_colab_link": true
    },
    "kernelspec": {
      "name": "python3",
      "display_name": "Python 3"
    },
    "language_info": {
      "name": "python"
    }
  },
  "cells": [
    {
      "cell_type": "markdown",
      "metadata": {
        "id": "view-in-github",
        "colab_type": "text"
      },
      "source": [
        "<a href=\"https://colab.research.google.com/github/25amaroa/Python-Basics/blob/main/PythonNotes.ipynb\" target=\"_parent\"><img src=\"https://colab.research.google.com/assets/colab-badge.svg\" alt=\"Open In Colab\"/></a>"
      ]
    },
    {
      "cell_type": "markdown",
      "source": [
        "# Getting started with Python\n",
        "\n",
        "\n"
      ],
      "metadata": {
        "id": "PxgEAz5TuWIy"
      }
    },
    {
      "cell_type": "code",
      "source": [
        "import sys #check version of python\n",
        "print (sys.version)"
      ],
      "metadata": {
        "id": "S_Rm5-HdKjQM",
        "colab": {
          "base_uri": "https://localhost:8080/"
        },
        "outputId": "23b405b0-43d9-41a9-8a11-2356bd0565c0"
      },
      "execution_count": null,
      "outputs": [
        {
          "output_type": "stream",
          "name": "stdout",
          "text": [
            "3.10.12 (main, Nov 20 2023, 15:14:05) [GCC 11.4.0]\n"
          ]
        }
      ]
    },
    {
      "cell_type": "code",
      "source": [
        "print(\"hello world\")"
      ],
      "metadata": {
        "colab": {
          "base_uri": "https://localhost:8080/"
        },
        "id": "So0qyzfHr9iz",
        "outputId": "e735aa20-0bb7-4b26-d39e-faf7427f0c0b"
      },
      "execution_count": null,
      "outputs": [
        {
          "output_type": "stream",
          "name": "stdout",
          "text": [
            "hello world\n"
          ]
        }
      ]
    },
    {
      "cell_type": "markdown",
      "source": [
        "Python uses new lines to complete commands\n",
        "\n",
        "Python relies on indentation and whitespace rather than curly braces for loops and scopes"
      ],
      "metadata": {
        "id": "AxBX98OAq5d9"
      }
    },
    {
      "cell_type": "code",
      "source": [
        "if 10 > 8:\n",
        "  print(\"10 is greater than 15\")\n"
      ],
      "metadata": {
        "colab": {
          "base_uri": "https://localhost:8080/"
        },
        "id": "l8s6kpIJsGLT",
        "outputId": "c0e040dc-3285-484f-d09f-7542761513dd"
      },
      "execution_count": null,
      "outputs": [
        {
          "output_type": "stream",
          "name": "stdout",
          "text": [
            "10 is greater than 15\n"
          ]
        }
      ]
    },
    {
      "cell_type": "markdown",
      "source": [
        "Variables are created once you assign a value to it"
      ],
      "metadata": {
        "id": "NOhE3JQBskfY"
      }
    },
    {
      "cell_type": "code",
      "source": [
        "x = 10\n",
        "y = \"goodbye world\""
      ],
      "metadata": {
        "id": "sPmAJonisb2Q"
      },
      "execution_count": null,
      "outputs": []
    },
    {
      "cell_type": "markdown",
      "source": [
        "Since Python will ignore string literals that are not assigned to a variable, you can add a multiline string (triple quotes) in your code, and place your comment inside it:\n",
        "\n"
      ],
      "metadata": {
        "id": "Z6H580hLtLJE"
      }
    },
    {
      "cell_type": "code",
      "source": [
        "\"\"\"\n",
        "This is a comment\n",
        "written in\n",
        "more than just one line\n",
        "\"\"\"\n",
        "print(\"Hello, World!\")"
      ],
      "metadata": {
        "colab": {
          "base_uri": "https://localhost:8080/"
        },
        "id": "FgP0tYfTtQTY",
        "outputId": "66ebed00-0153-407d-9b33-0df3f023d591"
      },
      "execution_count": null,
      "outputs": [
        {
          "output_type": "stream",
          "name": "stdout",
          "text": [
            "Hello, World!\n"
          ]
        }
      ]
    },
    {
      "cell_type": "markdown",
      "source": [
        "Casting: If you want to specify the data type of a variable, this can be done with casting.\n",
        "\n"
      ],
      "metadata": {
        "id": "_nI3HDlftg2v"
      }
    },
    {
      "cell_type": "code",
      "source": [
        "x = str(3)    # x will be '3'\n",
        "y = int(3)    # y will be 3\n",
        "z = float(3)  # z will be 3.0\n",
        "\n",
        "print(x)\n",
        "print(y)\n",
        "print(z)\n",
        "\n",
        "print(type(x)) #type function gives the variable type\n",
        "print(type(y))"
      ],
      "metadata": {
        "colab": {
          "base_uri": "https://localhost:8080/"
        },
        "id": "q6cT0kxHtjz_",
        "outputId": "63f31abd-fa90-4524-a42c-be034775a85e"
      },
      "execution_count": null,
      "outputs": [
        {
          "output_type": "stream",
          "name": "stdout",
          "text": [
            "3\n",
            "3\n",
            "3.0\n",
            "<class 'str'>\n",
            "<class 'int'>\n"
          ]
        }
      ]
    },
    {
      "cell_type": "markdown",
      "source": [
        "Python allows you to assign multiple values to multiples variables to one line"
      ],
      "metadata": {
        "id": "Rz7pDThwLD0i"
      }
    },
    {
      "cell_type": "code",
      "source": [
        "x, y, z = \"Orange\", \"Banana\", \"Cherry\"\n",
        "print(x)\n",
        "print(y)\n",
        "print(z)"
      ],
      "metadata": {
        "colab": {
          "base_uri": "https://localhost:8080/"
        },
        "id": "UMDAX_5iLp_D",
        "outputId": "43fb0497-cc2a-4795-d95d-929a9e426383"
      },
      "execution_count": null,
      "outputs": [
        {
          "output_type": "stream",
          "name": "stdout",
          "text": [
            "Orange\n",
            "Banana\n",
            "Cherry\n"
          ]
        }
      ]
    },
    {
      "cell_type": "markdown",
      "source": [
        "Unpack a collection"
      ],
      "metadata": {
        "id": "LFc9v9KqL5pC"
      }
    },
    {
      "cell_type": "code",
      "source": [
        "fruits = [\"apple\", \"banana\", \"cherry\"]\n",
        "x, y, z = fruits\n",
        "print(x)\n",
        "print(y)\n",
        "print(z)"
      ],
      "metadata": {
        "colab": {
          "base_uri": "https://localhost:8080/"
        },
        "id": "YNe-hSFTMA8f",
        "outputId": "beafc444-2b62-4c70-c1d7-9d2b8bc4e0ed"
      },
      "execution_count": null,
      "outputs": [
        {
          "output_type": "stream",
          "name": "stdout",
          "text": [
            "apple\n",
            "banana\n",
            "cherry\n"
          ]
        }
      ]
    },
    {
      "cell_type": "code",
      "source": [
        "# Global Variables are created outside of a function\n",
        "# Can be used by anyone inside and outside the variable\n",
        "\n",
        "x = \"hello\"\n",
        "\n",
        "def myfunc():\n",
        "  print(x + \" world\")\n",
        "\n",
        "myfunc()"
      ],
      "metadata": {
        "colab": {
          "base_uri": "https://localhost:8080/"
        },
        "id": "hXVdk9qyMsvZ",
        "outputId": "f2ec2e57-8402-4680-c533-707577e32bad"
      },
      "execution_count": null,
      "outputs": [
        {
          "output_type": "stream",
          "name": "stdout",
          "text": [
            "hello world\n"
          ]
        }
      ]
    },
    {
      "cell_type": "code",
      "source": [
        "x = \"awesome\"\n",
        "\n",
        "def myfunc():\n",
        "  x = \"fantastic\"\n",
        "  print(\"Python is \" + x)\n",
        "\n",
        "myfunc()\n",
        "\n",
        "print(\"Python is \" + x)"
      ],
      "metadata": {
        "colab": {
          "base_uri": "https://localhost:8080/"
        },
        "id": "uF2B0xMTNhNY",
        "outputId": "48bfbd7d-5a9c-46e6-a8dd-0886f78fb59a"
      },
      "execution_count": null,
      "outputs": [
        {
          "output_type": "stream",
          "name": "stdout",
          "text": [
            "Python is fantastic\n",
            "Python is awesome\n"
          ]
        }
      ]
    },
    {
      "cell_type": "code",
      "source": [
        "# If you use the global keyword, the variable belongs to the global sc\n",
        "def myfunc():\n",
        "  global x\n",
        "  x = \"fantastic\"\n",
        "\n",
        "myfunc()\n",
        "\n",
        "print(\"Python is \" + x)"
      ],
      "metadata": {
        "colab": {
          "base_uri": "https://localhost:8080/"
        },
        "id": "ECEeSxJVN1JU",
        "outputId": "c571beee-8c82-49fa-f7c4-6f4980ea0c19"
      },
      "execution_count": null,
      "outputs": [
        {
          "output_type": "stream",
          "name": "stdout",
          "text": [
            "Python is fantastic\n"
          ]
        }
      ]
    },
    {
      "cell_type": "markdown",
      "source": [
        "# Data Types"
      ],
      "metadata": {
        "id": "LS97oIasMYlf"
      }
    },
    {
      "cell_type": "markdown",
      "source": [
        "Text Type:\tstr\n",
        "\n",
        "Numeric Types:\tint, float, complex\n",
        "\n",
        "Sequence Types:\tlist, tuple, range\n",
        "\n",
        "Mapping Type:\tdict\n",
        "\n",
        "Set Types:\tset, frozenset\n",
        "\n",
        "Boolean Type:\tbool\n",
        "\n",
        "Binary Types:\tbytes, bytearray, memoryview\n",
        "\n",
        "None Type:\tNoneType"
      ],
      "metadata": {
        "id": "8JINHG0LUhE3"
      }
    },
    {
      "cell_type": "markdown",
      "source": [
        "## Numeric Type\n"
      ],
      "metadata": {
        "id": "u3Mbvwd7Y4wl"
      }
    },
    {
      "cell_type": "code",
      "source": [
        "# three numeric: int, float, and complex\n",
        "\n",
        "x = 1    # int: whole number without decimals\n",
        "y = 2.8  # float: number containing one or more decimals\n",
        "z = 1j   # complex: written with j as the imaginary part\n",
        "\n",
        "print(type(x))\n",
        "print(type(y))\n",
        "print(type(z))\n",
        "\n",
        "#convert from int to float:\n",
        "a = float(x)\n",
        "\n",
        "#convert from float to int:\n",
        "b = int(y)\n",
        "\n",
        "#convert from int to complex:\n",
        "c = complex(x)\n",
        "\n",
        "print(a)\n",
        "print(b)\n",
        "print(c)\n",
        "\n",
        "print(type(a))\n",
        "print(type(b))\n",
        "print(type(c))\n",
        "\n"
      ],
      "metadata": {
        "colab": {
          "base_uri": "https://localhost:8080/"
        },
        "id": "W2i85kk_MevJ",
        "outputId": "36df5c45-1ce6-46da-d048-cdfa476c2cac"
      },
      "execution_count": null,
      "outputs": [
        {
          "output_type": "stream",
          "name": "stdout",
          "text": [
            "<class 'int'>\n",
            "<class 'float'>\n",
            "<class 'complex'>\n",
            "1.0\n",
            "2\n",
            "(1+0j)\n",
            "<class 'float'>\n",
            "<class 'int'>\n",
            "<class 'complex'>\n"
          ]
        }
      ]
    },
    {
      "cell_type": "code",
      "source": [
        "# built-in module that can be used to make random numbers\n",
        "import random\n",
        "print(random.randrange(10,100))"
      ],
      "metadata": {
        "colab": {
          "base_uri": "https://localhost:8080/"
        },
        "id": "-dVF35e_WwVF",
        "outputId": "419a9a75-9b2b-4ad4-8cbe-7403b81abe16"
      },
      "execution_count": null,
      "outputs": [
        {
          "output_type": "stream",
          "name": "stdout",
          "text": [
            "68\n"
          ]
        }
      ]
    },
    {
      "cell_type": "markdown",
      "source": [
        "## Text Type"
      ],
      "metadata": {
        "id": "r72wnDZCeqoL"
      }
    },
    {
      "cell_type": "markdown",
      "source": [
        "### Getting started: str"
      ],
      "metadata": {
        "id": "lczNtYetfdry"
      }
    },
    {
      "cell_type": "code",
      "source": [
        "# Strings in Python are surrounded by single or double quotation marks\n",
        "\n",
        "print(\"hello\")\n",
        "print('hello')\n",
        "\n",
        "# You can use quotes inside a string, as long as they don't match the surrounding string\n",
        "\n",
        "print('\"See you later alligator,\" said Dracula')"
      ],
      "metadata": {
        "colab": {
          "base_uri": "https://localhost:8080/"
        },
        "id": "mEyZ3RWTZSoy",
        "outputId": "8fad380e-100b-44f2-9097-1a4c58bd346b"
      },
      "execution_count": null,
      "outputs": [
        {
          "output_type": "stream",
          "name": "stdout",
          "text": [
            "hello\n",
            "hello\n",
            "\"See you later alligator,\" said Dracula\n"
          ]
        }
      ]
    },
    {
      "cell_type": "code",
      "source": [
        "# you can assign a multiline string to a variable by using three quotes\n",
        "\n",
        "a = \"\"\"Lorem ipsum dolor sit amet,\n",
        "consectetur adipiscing elit,\n",
        "sed do eiusmod tempor incididunt\n",
        "ut labore et dolore magna aliqua.\"\"\"\n",
        "print(a)"
      ],
      "metadata": {
        "colab": {
          "base_uri": "https://localhost:8080/"
        },
        "id": "o4Yd13UAa6tp",
        "outputId": "d87cb0cd-1ccf-4967-8306-592581c0c25a"
      },
      "execution_count": null,
      "outputs": [
        {
          "output_type": "stream",
          "name": "stdout",
          "text": [
            "Lorem ipsum dolor sit amet,\n",
            "consectetur adipiscing elit,\n",
            "sed do eiusmod tempor incididunt\n",
            "ut labore et dolore magna aliqua.\n"
          ]
        }
      ]
    },
    {
      "cell_type": "markdown",
      "source": [
        "Strings in python are arrays of bytes representing Unicode characters.\n",
        "\n",
        "Python does not have a character data type, a single character is a string with a length of 1."
      ],
      "metadata": {
        "id": "cIufkLa_bH9k"
      }
    },
    {
      "cell_type": "code",
      "source": [
        "# You can use square brackets to access the elements of the string\n",
        "\n",
        "a = \"Hello World\" # First character has the position of 0\n",
        "\n",
        "print(a[1])"
      ],
      "metadata": {
        "colab": {
          "base_uri": "https://localhost:8080/"
        },
        "id": "syCfenXybjZx",
        "outputId": "07b6dd6f-4449-46e6-9e45-c8a8d3932944"
      },
      "execution_count": null,
      "outputs": [
        {
          "output_type": "stream",
          "name": "stdout",
          "text": [
            "e\n"
          ]
        }
      ]
    },
    {
      "cell_type": "code",
      "source": [
        "# You can loop through a string since it is just an array.\n",
        "# You can put the characters in a for loop\n",
        "\n",
        "for x in \"dracula\":\n",
        "  print(x)"
      ],
      "metadata": {
        "colab": {
          "base_uri": "https://localhost:8080/"
        },
        "id": "vUBlXyvccGr-",
        "outputId": "d2bf9723-a26a-4924-c0d0-31f273d567e9"
      },
      "execution_count": null,
      "outputs": [
        {
          "output_type": "stream",
          "name": "stdout",
          "text": [
            "d\n",
            "r\n",
            "a\n",
            "c\n",
            "u\n",
            "l\n",
            "a\n"
          ]
        }
      ]
    },
    {
      "cell_type": "code",
      "source": [
        "# to get the string length, use the len() function\n",
        "\n",
        "a = \"hello world\"\n",
        "print(len(a))"
      ],
      "metadata": {
        "colab": {
          "base_uri": "https://localhost:8080/"
        },
        "id": "OyncnbVdc5ti",
        "outputId": "ec6a6937-d4d7-498b-b849-cc9a3812f756"
      },
      "execution_count": null,
      "outputs": [
        {
          "output_type": "stream",
          "name": "stdout",
          "text": [
            "11\n"
          ]
        }
      ]
    },
    {
      "cell_type": "code",
      "source": [
        "# to check if the phrase or character is present in a string, use the keyword \"in\"\n",
        "\n",
        "x = \"Say hello to the world\"\n",
        "print(\"hello\" in x)"
      ],
      "metadata": {
        "colab": {
          "base_uri": "https://localhost:8080/"
        },
        "id": "c5glZuo5dK-Q",
        "outputId": "daaa347b-4f46-46b9-9aee-fe5b21d5181e"
      },
      "execution_count": null,
      "outputs": [
        {
          "output_type": "stream",
          "name": "stdout",
          "text": [
            "True\n"
          ]
        }
      ]
    },
    {
      "cell_type": "code",
      "source": [
        "# to check is the phrase or character is not present, use the keyword \"not in\"\n",
        "\n",
        "x = \"Say hello to the world\"\n",
        "print(\"hello\" not in x)"
      ],
      "metadata": {
        "colab": {
          "base_uri": "https://localhost:8080/"
        },
        "id": "kVBzXfT3dscM",
        "outputId": "672633b9-0a8c-44b7-cf92-a3a2fd415d0d"
      },
      "execution_count": null,
      "outputs": [
        {
          "output_type": "stream",
          "name": "stdout",
          "text": [
            "False\n"
          ]
        }
      ]
    },
    {
      "cell_type": "markdown",
      "source": [
        "### Slicing Strings"
      ],
      "metadata": {
        "id": "a3jxOVI5f7eM"
      }
    },
    {
      "cell_type": "code",
      "source": [
        "# you can return a range of characters using the slice syntax\n",
        "\n",
        "x = \"Hello World\"\n",
        "\n",
        "print(x[2:5]) # position 5 will not be included"
      ],
      "metadata": {
        "colab": {
          "base_uri": "https://localhost:8080/"
        },
        "id": "a1k71_G1gLTr",
        "outputId": "c18bd966-da20-4472-bc15-cd3a1d0ee91c"
      },
      "execution_count": null,
      "outputs": [
        {
          "output_type": "stream",
          "name": "stdout",
          "text": [
            "llo\n"
          ]
        }
      ]
    },
    {
      "cell_type": "code",
      "source": [
        "# leaving out the start index will make the range start from the first character\n",
        "# also works vice versa\n",
        "\n",
        "x = \"Hello World\"\n",
        "\n",
        "print(x[:5])\n",
        "print(x[5:])"
      ],
      "metadata": {
        "colab": {
          "base_uri": "https://localhost:8080/"
        },
        "id": "cJK848cwggqF",
        "outputId": "33ea39d7-b72d-41f6-cbb4-fc0af68d0a10"
      },
      "execution_count": null,
      "outputs": [
        {
          "output_type": "stream",
          "name": "stdout",
          "text": [
            "Hello\n",
            " World\n"
          ]
        }
      ]
    }
  ]
}